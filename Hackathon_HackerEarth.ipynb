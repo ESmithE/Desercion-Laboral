{
  "nbformat": 4,
  "nbformat_minor": 0,
  "metadata": {
    "colab": {
      "provenance": [],
      "collapsed_sections": [],
      "authorship_tag": "ABX9TyMKu3MPmJLEfZiDWokm3HOC",
      "include_colab_link": true
    },
    "kernelspec": {
      "name": "python3",
      "display_name": "Python 3"
    },
    "language_info": {
      "name": "python"
    }
  },
  "cells": [
    {
      "cell_type": "markdown",
      "metadata": {
        "id": "view-in-github",
        "colab_type": "text"
      },
      "source": [
        "<a href=\"https://colab.research.google.com/github/ESmithE/Deserci-n-Laboral--Analisis/blob/master/Hackathon_HackerEarth.ipynb\" target=\"_parent\"><img src=\"https://colab.research.google.com/assets/colab-badge.svg\" alt=\"Open In Colab\"/></a>"
      ]
    },
    {
      "cell_type": "markdown",
      "source": [
        "# **INSTRUCCIONES**\n",
        "\n",
        "\n",
        "1.   Corre el codigo en orden \n",
        "        *   1.- Import csv file\n",
        "        *   2.- Body\n",
        "\n",
        "**Nota**: Es caso de presentar error ❌ repite los pasos anteriores ☝\n",
        "\n",
        "\n"
      ],
      "metadata": {
        "id": "aVhmtieK_H7T"
      }
    },
    {
      "cell_type": "markdown",
      "source": [
        "**Import csv file:** \n"
      ],
      "metadata": {
        "id": "SD8oAToNwPj6"
      }
    },
    {
      "cell_type": "code",
      "source": [
        "file_handler = open('/content/sample_data/Employees.csv', 'r')\n"
      ],
      "metadata": {
        "id": "6pwtoy8q-sCi"
      },
      "execution_count": 20,
      "outputs": []
    },
    {
      "cell_type": "markdown",
      "source": [
        "**Body:**"
      ],
      "metadata": {
        "id": "MdN-1CwI_v6v"
      }
    },
    {
      "cell_type": "code",
      "source": [
        "# Definición de variables.\n",
        "suma_edad = 0\n",
        "conteo_edad = 0\n",
        "lectura_m = 0  \n",
        "conteo_m = 0\n",
        "conteo_f = 0\n",
        "lectura_f = 0\n",
        "\n",
        "# Declaración de función para imprimir datos\n",
        "def impresion(mensaje, valor, edad_promedio):\n",
        "    print('Edad promedio de los empleados : ', round(edad_promedio))\n",
        "    print(f'Hay más {mensaje} en la empresa con : {valor}')\n",
        "\n",
        "# Bloque de codigo para calcular el promedio de edad\n",
        "next(file_handler)\n",
        "for line in file_handler:                      \n",
        "    columnas = line.split(',')                    # Procesamiento de datos y definicion de lista\n",
        "    if columnas[2] != '':                         # Limpieza de datos vacios               \n",
        "        edad = int(columnas[2])                   # Conversión de variable tipo STR a INT\n",
        "        lectura = len(columnas[1])                # Buscando longitud de la lista  \n",
        "        conteo_edad += lectura                    # Conteo del numero de datos\n",
        "        suma_edad += edad                         # Conteo del numero de edades\n",
        "        edad_promedio = suma_edad / conteo_edad   # Calculo de promedio de edad\n",
        "\n",
        "\n",
        "    if columnas[1] == 'M'and columnas[2] != '':    # Condicion para calcular genero \"Male\"\n",
        "        genero = columnas[1]                       \n",
        "        lectura_m = len(columnas[1])\n",
        "        conteo_m += lectura_m\n",
        "        \n",
        "    if columnas[1] == 'F'and columnas[2] != '':    # Condicion para calcular genero \"Female\"\n",
        "        genero_f = columnas[1]\n",
        "        lectura_f = len(columnas[1])\n",
        "        conteo_f += lectura_f        \n",
        "\n",
        "# Llamado de funcion \"impresion\"\n",
        "if conteo_f < conteo_m:\n",
        "    valor = conteo_m \n",
        "    impresion('Hombres',valor,edad_promedio)\n",
        "     \n",
        "else:\n",
        "    valor = conteo_f\n",
        "    impresion('Mujeres',valor,edad_promedio)\n",
        "\n",
        "\n",
        "file_handler.close()"
      ],
      "metadata": {
        "colab": {
          "base_uri": "https://localhost:8080/"
        },
        "id": "iH3W4CdLRLsX",
        "outputId": "f83d5596-64cf-49c5-cd22-ec4b94ace90a"
      },
      "execution_count": 18,
      "outputs": [
        {
          "output_type": "stream",
          "name": "stdout",
          "text": [
            "Edad promedio de los empleados :  40\n",
            "Hay más Mujeres en la empresa con : 3884\n"
          ]
        }
      ]
    }
  ]
}