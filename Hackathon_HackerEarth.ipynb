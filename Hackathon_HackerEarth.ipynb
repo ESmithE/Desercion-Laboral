{
  "nbformat": 4,
  "nbformat_minor": 0,
  "metadata": {
    "colab": {
      "provenance": [],
      "collapsed_sections": [],
      "authorship_tag": "ABX9TyMydKEvp/uRkFb4BgkNvvkm",
      "include_colab_link": true
    },
    "kernelspec": {
      "name": "python3",
      "display_name": "Python 3"
    },
    "language_info": {
      "name": "python"
    }
  },
  "cells": [
    {
      "cell_type": "markdown",
      "metadata": {
        "id": "view-in-github",
        "colab_type": "text"
      },
      "source": [
        "<a href=\"https://colab.research.google.com/github/ESmithE/Deserci-n-Laboral--Analisis/blob/master/Hackathon_HackerEarth.ipynb\" target=\"_parent\"><img src=\"https://colab.research.google.com/assets/colab-badge.svg\" alt=\"Open In Colab\"/></a>"
      ]
    },
    {
      "cell_type": "markdown",
      "source": [
        "# **INSTRUCCIONES**\n",
        "\n",
        "\n",
        "1.   Corre el codigo en orden \n",
        "        *   1.- Import csv file\n",
        "        *   2.- Body\n",
        "\n",
        "**Nota**: Es caso de presentar error ❌ repite los pasos anteriores ☝\n",
        "\n",
        "\n"
      ],
      "metadata": {
        "id": "aVhmtieK_H7T"
      }
    },
    {
      "cell_type": "markdown",
      "source": [
        "**Import csv file:** \n"
      ],
      "metadata": {
        "id": "SD8oAToNwPj6"
      }
    },
    {
      "cell_type": "code",
      "source": [
        "file_handler = open('/content/sample_data/Employees.csv', 'r')\n"
      ],
      "metadata": {
        "id": "6pwtoy8q-sCi"
      },
      "execution_count": 159,
      "outputs": []
    },
    {
      "cell_type": "markdown",
      "source": [
        "**Body:**"
      ],
      "metadata": {
        "id": "MdN-1CwI_v6v"
      }
    },
    {
      "cell_type": "code",
      "source": [
        "# Definición de variables.\n",
        "suma_edad = 0\n",
        "conteo_edad = 0\n",
        "lectura_m = 0  \n",
        "conteo_m = 0\n",
        "conteo_f = 0\n",
        "lectura_f = 0\n",
        "\n",
        "\n",
        "# Saltar en encabezado.\n",
        "next(file_handler)\n",
        "for line in file_handler:                      # Bloque de codigo para calcular el promedio de edad\n",
        "    columnas = line.split(',')\n",
        "    if columnas[2] != '':               \n",
        "        nombre = columnas[1]\n",
        "        edad = int(columnas[2])\n",
        "        lectura = len(columnas[1])  \n",
        "        conteo_edad += lectura      \n",
        "        suma_edad += edad\n",
        "        edad_promedio = suma_edad / conteo_edad\n",
        "    \n",
        "    if columnas[1] == 'M'and columnas[2] != '':    # Condicion para calcular genero \"Male\"\n",
        "        genero = columnas[1]\n",
        "        lectura_m = len(columnas[1])\n",
        "        conteo_m += lectura_m\n",
        "        \n",
        "    if columnas[1] == 'F'and columnas[2] != '':    # Condicion para calcular genero \"Male\"\n",
        "        genero_f = columnas[1]\n",
        "        lectura_f = len(columnas[1])\n",
        "        conteo_f += lectura_f        \n",
        "\n",
        "# Impresion de datos\n",
        "if conteo_f < conteo_m:\n",
        "    print('Edad promedio de los empleados : ', round(edad_promedio))\n",
        "    print(f'Hay más Hombres en la empresa con : {conteo_m}')\n",
        "    print(f'Cantidad de Hombres :{conteo_m}') \n",
        "    print(f'Cantidad de Mujeres :{conteo_f}')\n",
        "     \n",
        "else:\n",
        "    print('Edad promedio de los empleados : ', round(edad_promedio))\n",
        "    print(f'Hay más Mujeres en la empresa con :{conteo_f}')\n",
        "    print(f'Mujeres :{conteo_f}')\n",
        "    print(f'Hombres :{conteo_m}')\n",
        "\n",
        "file_handler.close()\n"
      ],
      "metadata": {
        "id": "hb2VZ5qqvK9X",
        "colab": {
          "base_uri": "https://localhost:8080/"
        },
        "outputId": "f4d26efc-c25d-4c55-8371-a3e6fbe55d21"
      },
      "execution_count": 160,
      "outputs": [
        {
          "output_type": "stream",
          "name": "stdout",
          "text": [
            "Edad promedio de los empleados :  40\n",
            "Hay más Mujeres en la empresa con :3884\n",
            "Mujeres :3884\n",
            "Hombres :2704\n"
          ]
        }
      ]
    }
  ]
}